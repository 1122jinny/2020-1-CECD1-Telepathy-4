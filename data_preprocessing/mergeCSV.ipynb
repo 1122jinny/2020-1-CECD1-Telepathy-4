{
 "cells": [
  {
   "cell_type": "code",
   "execution_count": 9,
   "metadata": {},
   "outputs": [
    {
     "name": "stdout",
     "output_type": "stream",
     "text": [
      "output_continue_apple.csv write complete...\n",
      "output_continue_efil.csv write complete...\n",
      "output_continue_samsung.csv write complete...\n",
      ">>> All file merge complete...\n"
     ]
    }
   ],
   "source": [
    "import csv \n",
    "import glob \n",
    "\n",
    "path = 'C:/Users/saepi/Documents/University/grade4/semester1/CapstonDesign1/example/output_continue/' #CSV 파일이 존재하는 경로 \n",
    "merge_path = 'C:/Users/saepi/Documents/University/grade4/semester1/CapstonDesign1/example/total.csv' #최종 Merge file \n",
    "file_list = glob.glob(path + '*') #1. merge 대상 파일을 확인 \n",
    "\n",
    "with open(merge_path, 'w') as f: #2-1.merge할 파일을 열고 \n",
    "    for file in file_list: \n",
    "        with open(file ,'r') as f2: \n",
    "            while True: \n",
    "                line = f2.readline() #2.merge 대상 파일의 row 1줄을 읽어서 \n",
    "                \n",
    "                if not line: #row가 없으면 해당 csv 파일 읽기 끝 \n",
    "                    break \n",
    "                    \n",
    "                f.write(line) #3.읽은 row 1줄을 merge할 파일에 쓴다. \n",
    "                \n",
    "        file_name = file.split('\\\\')[-1] \n",
    "        print(file.split('\\\\')[-1] + ' write complete...') \n",
    "        \n",
    "print('>>> All file merge complete...')"
   ]
  },
  {
   "cell_type": "code",
   "execution_count": null,
   "metadata": {},
   "outputs": [],
   "source": []
  }
 ],
 "metadata": {
  "kernelspec": {
   "display_name": "Python 3",
   "language": "python",
   "name": "python3"
  },
  "language_info": {
   "codemirror_mode": {
    "name": "ipython",
    "version": 3
   },
   "file_extension": ".py",
   "mimetype": "text/x-python",
   "name": "python",
   "nbconvert_exporter": "python",
   "pygments_lexer": "ipython3",
   "version": "3.7.3"
  }
 },
 "nbformat": 4,
 "nbformat_minor": 2
}
