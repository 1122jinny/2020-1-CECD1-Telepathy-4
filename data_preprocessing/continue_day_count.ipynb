{
 "cells": [
  {
   "cell_type": "code",
   "execution_count": 98,
   "metadata": {
    "scrolled": true
   },
   "outputs": [],
   "source": [
    "import csv\n",
    "import pandas as pd\n",
    "\n",
    "csv_file = pd.read_csv('output_efil_day_sample.csv')\n",
    "\n",
    "# csv_file\n",
    "# 여기까지 불러오는 거"
   ]
  },
  {
   "cell_type": "code",
   "execution_count": 99,
   "metadata": {},
   "outputs": [],
   "source": [
    "i = 2\n",
    "j = 0\n",
    "arr = {}\n",
    "\n",
    "for d in csv_file['date']:\n",
    "    list_temp = d.split('-')\n",
    "    list_temp.insert(3, csv_file['person_id'][j])\n",
    "    list_temp.insert(4, csv_file['steps'][j])\n",
    "    arr[i] = list_temp\n",
    "    i = i + 1\n",
    "    j = j + 1\n",
    "    \n",
    "# 여기까지 배열에 날짜만 뽑아서 저장하는 거"
   ]
  },
  {
   "cell_type": "code",
   "execution_count": 100,
   "metadata": {},
   "outputs": [
    {
     "name": "stdout",
     "output_type": "stream",
     "text": [
      "64\n"
     ]
    }
   ],
   "source": [
    "count = 0 # 며칠 연속인지\n",
    "n = 0 # 사람 수\n",
    "\n",
    "for i in range(2, len(arr) - 1):\n",
    "    month = int(arr[i][1]) # 달\n",
    "    nextmonth = int(arr[i + 1][1]) # 다음달\n",
    "\n",
    "    day = int(arr[i][2]) # 일\n",
    "    nextday = int(arr[i + 1][2]) # 다음날\n",
    "    \n",
    "    user = arr[i][3] # 사용자 id\n",
    "    nextuser = arr[i + 1][3] # 다음 사용자 id\n",
    "\n",
    "    #if user == nextuser:\n",
    "    if day + 1 != nextday: # 하루 단위로 안 이어지면\n",
    "        if month == 1 or month == 3 or month == 5 or month == 7 or month == 8 or month == 10 or month == 12: # 31일\n",
    "            if (day == 31) and (nextday == 1) and (month + 1 == nextmonth): # 말일이고 다음 달이랑 이어지는 데이터면\n",
    "                count = count + 1\n",
    "            elif (day == 31) and (nextday == 1) and month == 12 and nextmonth == 1: # 12월이고 1월이랑 이어지는 말일 데이터면\n",
    "                count = count + 1\n",
    "            else: # 말일이긴 한데 다음 달이랑 안 이어지면\n",
    "                if count >= 28:\n",
    "                    n = n + 1\n",
    "                    #print(i, count)\n",
    "                count = 0\n",
    "        elif month == 4 or month == 6 or month == 9 or month == 11: # 30일\n",
    "            if (day == 30) and (nextday == 1) and (month + 1 == nextmonth): # 말일이고 다음 달이랑 이어지는 데이터면\n",
    "                count = count + 1\n",
    "            else:\n",
    "                if count >= 28:\n",
    "                    n = n + 1\n",
    "                    #print(i, count)\n",
    "                count = 0\n",
    "        else: # 2월일 때\n",
    "            if (day == 28) and (nextday == 1) and (month + 1 == nextmonth): # 말일이고 다음 달이랑 이어지는 데이터면\n",
    "                count = count + 1\n",
    "            else:\n",
    "                if count >= 28:\n",
    "                    n = n + 1\n",
    "                    #print(i, count)\n",
    "                count = 0\n",
    "    else: # 하루 단위로 이어지면\n",
    "        count = count + 1\n",
    "        \n",
    "print(n)"
   ]
  }
 ],
 "metadata": {
  "kernelspec": {
   "display_name": "Python 3",
   "language": "python",
   "name": "python3"
  },
  "language_info": {
   "codemirror_mode": {
    "name": "ipython",
    "version": 3
   },
   "file_extension": ".py",
   "mimetype": "text/x-python",
   "name": "python",
   "nbconvert_exporter": "python",
   "pygments_lexer": "ipython3",
   "version": "3.7.3"
  }
 },
 "nbformat": 4,
 "nbformat_minor": 2
}
